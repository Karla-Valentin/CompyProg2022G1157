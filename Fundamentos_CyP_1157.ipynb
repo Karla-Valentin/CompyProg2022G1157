{
  "nbformat": 4,
  "nbformat_minor": 0,
  "metadata": {
    "colab": {
      "name": "Fundamentos CyP 1157.ipynb",
      "provenance": [],
      "authorship_tag": "ABX9TyM1tQMdPHadey4Ev/5jz3jY",
      "include_colab_link": true
    },
    "kernelspec": {
      "name": "python3",
      "display_name": "Python 3"
    },
    "language_info": {
      "name": "python"
    }
  },
  "cells": [
    {
      "cell_type": "markdown",
      "metadata": {
        "id": "view-in-github",
        "colab_type": "text"
      },
      "source": [
        "<a href=\"https://colab.research.google.com/github/Karla-Valentin/CompyProg2022G1157/blob/main/Fundamentos_CyP_1157.ipynb\" target=\"_parent\"><img src=\"https://colab.research.google.com/assets/colab-badge.svg\" alt=\"Open In Colab\"/></a>"
      ]
    },
    {
      "cell_type": "code",
      "metadata": {
        "colab": {
          "base_uri": "https://localhost:8080/"
        },
        "id": "rMJYT3fBVZem",
        "outputId": "f15c8665-9cbd-49ba-fbb3-3bdb75e18d59"
      },
      "source": [
        "nombre = \"Jose\" #tipo de dat string (cadena de caracteres) \n",
        "print (nombre)\n"
      ],
      "execution_count": 1,
      "outputs": [
        {
          "output_type": "stream",
          "name": "stdout",
          "text": [
            "Jose\n"
          ]
        }
      ]
    },
    {
      "cell_type": "code",
      "metadata": {
        "id": "2ITc77HuaOsB"
      },
      "source": [
        ""
      ],
      "execution_count": null,
      "outputs": []
    },
    {
      "cell_type": "markdown",
      "metadata": {
        "id": "445mEXVKXIE3"
      },
      "source": [
        "#Tipos de datos en Phyton\n",
        "### Tipos simples\n",
        "- str --> String cadena de \n",
        "caracteres. \n",
        "- int --> Numeros enteros \n",
        "- float --> Numeros con notación de punto flotante. Son numeros con punto decimal.\n",
        "- complex --> Numeros complejos\n",
        "- bool --> Boleano (True o False)\n",
        "- byte --> 8 bits \n",
        "\n",
        "### Tipos de datos estructurados (compuestos)\n",
        "- list --> Listas (Arreglos en otros lenguajes)\n",
        "- dict --> diccionarios\n",
        "- set y frozenset --> Conjuntos\n",
        "- tuple --> Listas no mutables\n"
      ]
    },
    {
      "cell_type": "code",
      "metadata": {
        "colab": {
          "base_uri": "https://localhost:8080/"
        },
        "id": "U8QjUnrqaRxa",
        "outputId": "0b56e130-6dd5-47e7-def1-222b44eb7ed5"
      },
      "source": [
        "import sys\n",
        "edad = 19 \n",
        "print (\"Tu edad es:\" ,edad) #al final de una línea de código\n",
        "#Este es un comentario de línea simple \n",
        "\"\"\"\n",
        "Comentario multiple línea\n",
        "En lenguaje C, C++ y Java el comentario de múltiple linea es con /* ..... */\n",
        "\n",
        "En lenguaje C, C++ y Java el comentario de una sola línea es con: \n",
        "//\n",
        "Aquí puedes explicar en prosa el segmento de un código para futura \n",
        "\"\"\"\n",
        "# Tipos de datos numericos int y float \n",
        "\n",
        "print (sys.getsizeof (edad)) \n",
        "#El tipo de dato INT utiliza diferentes cantidades de bits segun el \n",
        "#leg de programa por ejemplo en C utiliza 16 bits.\n",
        "edad = edad + 1 #Variable porque puede cambiar el resultado\n",
        "print (edad) \n",
        "\n",
        "estatura = 1.56 #valor flotante\n",
        "print (estatura)\n",
        "print (sys.getsizeof(estatura))\n",
        "estatura = estatura + 0.1\n",
        "print (estatura)\n",
        "print ( round (estatura,2))#Se le agrega eso para redondearlo a 2 decimales.\n",
        "\n",
        "edad += 1 # es lo mismo que decir edad = edad + 1\n",
        "print (\"Tu edad es:\" ,edad)\n",
        "\n",
        "edad -= 1 # es lo mismo que decir edad = edad - 1\n",
        "print (\"Tu edad es:\" ,edad)\n",
        "\n",
        "edad += 1\n",
        "edad /= 2 # es lo mismo que decir edad = edad/2\n",
        "print (\"Tu edad es:\" ,edad)\n",
        "\n",
        "edad = 21 \n",
        "#volver a calcular la mitad de la edad pero solo dejar parte entera con //\n",
        "edad = edad //2\n",
        "print (\"Tu edad es:\" ,edad)\n",
        "\n",
        "#En la mayoria de los leng no permite operaciones entre difeentes tipos de datos \n",
        "#en phyton no es el caso.\n",
        "numero = edad / 2.0\n",
        "print (numero)\n",
        "\n",
        "numero = numero * 3 #Multiplicacion: tambien se puede poner numero *= 3\n",
        "print (numero)\n",
        "\n",
        "numero = 5.0 \n",
        "numero = numero **2 #se esta elevando al cuadrado\n",
        "print (numero)\n",
        "\n",
        "#Operador modulo\n",
        "numero = 21\n",
        "print (numero / 2)\n",
        "\n",
        "print (numero // 2)#Para parte entera\n",
        "#El operador modulo da como resultado el residuo de una division entera \n",
        "print(numero % 2)\n",
        "\n",
        "numero = 24 \n",
        "print (\"Residuo de 24/5:\" , numero % 5)\n",
        "\n",
        "# Operadores relacionales (lógicos):\n",
        "\n",
        "#Para saber si un nuemro es par:\n",
        "print(numero % 2 == 0) #si da 0 es que es verdad\n",
        "\n",
        "# Diferencia\n",
        "print (\"24 es diferente de 23=\" , numero != 23)\n",
        "print(\"24 es mayor que 23\", numero > 23)\n",
        "print(\"24 es menor que 23\", numero < 23) \n",
        "\n",
        "print(\"24 es mayor o igual que 24\", numero >= 24)\n",
        "print(\"24 es menor o igual que 23\", numero <= 23)\n",
        "\n",
        "print(\"El tipo de dato de la variable numero es:\" , type(numero))\n",
        "print(\"El tipo de dato de la variable numero entre 2.0 es:\" , type(numero /2.0))\n"
      ],
      "execution_count": 28,
      "outputs": [
        {
          "output_type": "stream",
          "name": "stdout",
          "text": [
            "Tu edad es: 19\n",
            "28\n",
            "20\n",
            "1.56\n",
            "24\n",
            "1.6600000000000001\n",
            "1.66\n",
            "Tu edad es: 21\n",
            "Tu edad es: 20\n",
            "Tu edad es: 10.5\n",
            "Tu edad es: 10\n",
            "5.0\n",
            "15.0\n",
            "25.0\n",
            "10.5\n",
            "10\n",
            "1\n",
            "Residuo de 24/5: 4\n",
            "True\n",
            "24 es diferente de 23= True\n",
            "24 es mayor que 23 True\n",
            "24 es menor que 23 False\n",
            "24 es mayor o igual que 24 True\n",
            "24 es menor o igual que 23 False\n",
            "El tipo de dato de la variable numero es: <class 'int'>\n",
            "El tipo de dato de la variable numero entre 2.0 es: <class 'float'>\n"
          ]
        }
      ]
    },
    {
      "cell_type": "markdown",
      "metadata": {
        "id": "VPtCbMR-pcWo"
      },
      "source": [
        "# Tipo de dato String (str) en Python\n",
        "\n",
        "- Se maneja como un arreglo (tipo de dato compuesto)\n",
        "- Se puede acceder a los elemntos de el string por medio del indice del caracter.\n",
        "- Mutable\n",
        "- Tiene metodos utiles (potentes)\n",
        "- Tiene slicing "
      ]
    },
    {
      "cell_type": "code",
      "metadata": {
        "colab": {
          "base_uri": "https://localhost:8080/"
        },
        "id": "_4RC8eSfp_Xk",
        "outputId": "2dee3329-19ce-4dd0-cf10-b94e7e3cf290"
      },
      "source": [
        "nombre = 'Jose' #comillas simples si son palabras cortas\n",
        "Carrera = \"Ingenieria en computación\" #Comillas normales con palabras así\n",
        "frase = \"\"\" El conocimiento \n",
        "me persigue,.......\n",
        "pero\n",
        "yo soy más rápido\n",
        "\"\"\"\n",
        "print (nombre)\n",
        "print (Carrera)\n",
        "print (frase)\n",
        "\n",
        "# La función type de Python te devuelve el tipo de dato de una cariable\n",
        "print( type(nombre))\n",
        "\n",
        "paterno = str( \"Perez\")\n",
        "print(paterno)"
      ],
      "execution_count": 29,
      "outputs": [
        {
          "output_type": "stream",
          "name": "stdout",
          "text": [
            "Jose\n",
            "Ingenieria en computación\n",
            " El conocimiento\n",
            "me persigue,.......\n",
            "pero\n",
            "yo soy más rápido\n",
            "\n",
            "<class 'str'>\n",
            "Perez\n"
          ]
        }
      ]
    }
  ]
}